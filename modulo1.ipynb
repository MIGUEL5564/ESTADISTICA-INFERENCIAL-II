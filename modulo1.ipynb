{
 "cells": [
  {
   "cell_type": "markdown",
   "id": "e43fad1c-888a-445a-8d82-d4ee8441ae74",
   "metadata": {},
   "source": [
    "<img src=\"descriptiva.png\" width=\"400\" height=\"540\"> "
   ]
  },
  {
   "cell_type": "markdown",
   "id": "86d24268-d113-4ec6-a83e-18c58293e711",
   "metadata": {},
   "source": [
    "\n",
    "#  **Módulo 1: Estadística Descriptiva**\n",
    "#\n",
    "## En este módulo revisaremos:\n",
    "## 1. Conceptos básicos de estadística descriptiva.\n",
    "## 2. Medidas de tendencia central (media, mediana, moda).\n",
    "## 3. Medidas de dispersión (varianza, desviación estándar, rango).\n",
    "## 4. Representaciones gráficas de los datos.\n",
    "#\n",
    "\n",
    "#  **1. ¿Qué es la Estadística Descriptiva?**\n",
    "#\n",
    "## La **estadística descriptiva** se ocupa de recolectar, organizar y resumir datos \n",
    "## para describir sus características principales.\n",
    "#\n",
    "## En logística, nos permite:\n",
    "## - Analizar tiempos de entrega.\n",
    "## - Estudiar costos de transporte.\n",
    "## - Evaluar inventarios y demanda."
   ]
  },
  {
   "cell_type": "markdown",
   "id": "a41724f6-39b2-4a7f-a2f0-1cb7d074a3dc",
   "metadata": {},
   "source": [
    "\n",
    "#  **2. Creando un conjunto de datos de ejemplo**\n",
    "#\n",
    "## Supongamos que tenemos los **tiempos de entrega** (en horas) de un conjunto de pedidos."
   ]
  },
  {
   "cell_type": "code",
   "execution_count": 26,
   "id": "62d3cc2d-af8c-47ba-b7f4-84a2d4db5ae8",
   "metadata": {},
   "outputs": [
    {
     "data": {
      "text/html": [
       "<div>\n",
       "<style scoped>\n",
       "    .dataframe tbody tr th:only-of-type {\n",
       "        vertical-align: middle;\n",
       "    }\n",
       "\n",
       "    .dataframe tbody tr th {\n",
       "        vertical-align: top;\n",
       "    }\n",
       "\n",
       "    .dataframe thead th {\n",
       "        text-align: right;\n",
       "    }\n",
       "</style>\n",
       "<table border=\"1\" class=\"dataframe\">\n",
       "  <thead>\n",
       "    <tr style=\"text-align: right;\">\n",
       "      <th></th>\n",
       "      <th>Tiempo_entrega</th>\n",
       "    </tr>\n",
       "  </thead>\n",
       "  <tbody>\n",
       "    <tr>\n",
       "      <th>0</th>\n",
       "      <td>24</td>\n",
       "    </tr>\n",
       "    <tr>\n",
       "      <th>1</th>\n",
       "      <td>30</td>\n",
       "    </tr>\n",
       "    <tr>\n",
       "      <th>2</th>\n",
       "      <td>28</td>\n",
       "    </tr>\n",
       "    <tr>\n",
       "      <th>3</th>\n",
       "      <td>35</td>\n",
       "    </tr>\n",
       "    <tr>\n",
       "      <th>4</th>\n",
       "      <td>40</td>\n",
       "    </tr>\n",
       "    <tr>\n",
       "      <th>5</th>\n",
       "      <td>22</td>\n",
       "    </tr>\n",
       "    <tr>\n",
       "      <th>6</th>\n",
       "      <td>25</td>\n",
       "    </tr>\n",
       "    <tr>\n",
       "      <th>7</th>\n",
       "      <td>27</td>\n",
       "    </tr>\n",
       "    <tr>\n",
       "      <th>8</th>\n",
       "      <td>29</td>\n",
       "    </tr>\n",
       "    <tr>\n",
       "      <th>9</th>\n",
       "      <td>32</td>\n",
       "    </tr>\n",
       "    <tr>\n",
       "      <th>10</th>\n",
       "      <td>31</td>\n",
       "    </tr>\n",
       "    <tr>\n",
       "      <th>11</th>\n",
       "      <td>26</td>\n",
       "    </tr>\n",
       "    <tr>\n",
       "      <th>12</th>\n",
       "      <td>38</td>\n",
       "    </tr>\n",
       "    <tr>\n",
       "      <th>13</th>\n",
       "      <td>36</td>\n",
       "    </tr>\n",
       "    <tr>\n",
       "      <th>14</th>\n",
       "      <td>33</td>\n",
       "    </tr>\n",
       "  </tbody>\n",
       "</table>\n",
       "</div>"
      ],
      "text/plain": [
       "    Tiempo_entrega\n",
       "0               24\n",
       "1               30\n",
       "2               28\n",
       "3               35\n",
       "4               40\n",
       "5               22\n",
       "6               25\n",
       "7               27\n",
       "8               29\n",
       "9               32\n",
       "10              31\n",
       "11              26\n",
       "12              38\n",
       "13              36\n",
       "14              33"
      ]
     },
     "execution_count": 26,
     "metadata": {},
     "output_type": "execute_result"
    }
   ],
   "source": [
    "# %% [code]\n",
    "import pandas as pd\n",
    "import numpy as np\n",
    "import matplotlib.pyplot as plt\n",
    "import seaborn as sns\n",
    "\n",
    "sns.set(style=\"whitegrid\", palette=\"muted\")\n",
    "\n",
    "# Dataset ficticio: tiempos de entrega de pedidos (horas)\n",
    "data = pd.DataFrame({\n",
    "    \"Tiempo_entrega\": [24, 30, 28, 35, 40, 22, 25, 27, 29, 32, 31, 26, 38, 36, 33]\n",
    "})\n",
    "\n",
    "data"
   ]
  },
  {
   "cell_type": "markdown",
   "id": "8e1eeeca-3aac-4cc7-b540-5de8ca74702b",
   "metadata": {},
   "source": [
    "\n",
    "#  **3. Medidas de tendencia central**\n",
    "#\n",
    "## - **Media**: promedio de los datos.\n",
    "## - **Mediana**: valor central cuando los datos están ordenados.\n",
    "## - **Moda**: valor que más se repite."
   ]
  },
  {
   "cell_type": "code",
   "execution_count": 29,
   "id": "47807796-2296-4151-955a-d52f5865bb9f",
   "metadata": {},
   "outputs": [
    {
     "name": "stdout",
     "output_type": "stream",
     "text": [
      "Media: 30.40 horas\n",
      "Mediana: 30.00 horas\n",
      "Moda: 22 horas\n"
     ]
    }
   ],
   "source": [
    "# %% [code]\n",
    "# Cálculos en Python\n",
    "media = data[\"Tiempo_entrega\"].mean()\n",
    "mediana = data[\"Tiempo_entrega\"].median()\n",
    "moda = data[\"Tiempo_entrega\"].mode()[0]\n",
    "\n",
    "print(f\"Media: {media:.2f} horas\")\n",
    "print(f\"Mediana: {mediana:.2f} horas\")\n",
    "print(f\"Moda: {moda} horas\")"
   ]
  },
  {
   "cell_type": "markdown",
   "id": "83fe9b20-ed8b-48db-8ad6-142a1ac1959b",
   "metadata": {},
   "source": [
    "\n",
    "#  **4. Medidas de dispersión**\n",
    "#\n",
    "## - **Rango**: diferencia entre el valor máximo y mínimo.\n",
    "## - **Varianza**: medida de la variabilidad de los datos.\n",
    "## - **Desviación estándar**: raíz cuadrada de la varianza."
   ]
  },
  {
   "cell_type": "code",
   "execution_count": 34,
   "id": "098b9d21-f023-4ae6-a43c-b5a00cbb2f49",
   "metadata": {},
   "outputs": [
    {
     "name": "stdout",
     "output_type": "stream",
     "text": [
      "Rango: 18.00 horas\n",
      "Varianza: 27.97\n",
      "Desviación estándar: 5.29\n"
     ]
    }
   ],
   "source": [
    "# %% CODIGO CALCULO MEDIDAS DE DISPERSION\n",
    "rango = data[\"Tiempo_entrega\"].max() - data[\"Tiempo_entrega\"].min()\n",
    "varianza = data[\"Tiempo_entrega\"].var()\n",
    "desv_est = data[\"Tiempo_entrega\"].std()\n",
    "\n",
    "print(f\"Rango: {rango:.2f} horas\")\n",
    "print(f\"Varianza: {varianza:.2f}\")\n",
    "print(f\"Desviación estándar: {desv_est:.2f}\")\n"
   ]
  },
  {
   "cell_type": "markdown",
   "id": "494b1961-56c5-4ec6-87be-bf8bc2a7c690",
   "metadata": {},
   "source": [
    "\n",
    "#  **5. Representación gráfica**\n",
    "#\n",
    "## Usemos gráficos para entender mejor la distribución de los datos:\n",
    "## - Histograma\n",
    "## - Boxplot"
   ]
  },
  {
   "cell_type": "code",
   "execution_count": 36,
   "id": "944f843d-5a76-4b27-bf0e-39e6daaf48fa",
   "metadata": {},
   "outputs": [
    {
     "data": {
      "image/png": "[encoded data removed]",
      "text/plain": [
       "<Figure size 1200x500 with 2 Axes>"
      ]
     },
     "metadata": {},
     "output_type": "display_data"
    }
   ],
   "source": [
    "# HISTOGRAMA Y BOXPLOT\n",
    "plt.figure(figsize=(12,5))\n",
    "\n",
    "# Histograma\n",
    "plt.subplot(1,2,1)\n",
    "sns.histplot(data[\"Tiempo_entrega\"], bins=6, kde=True)\n",
    "plt.title(\"Histograma de tiempos de entrega\")\n",
    "\n",
    "# Boxplot\n",
    "plt.subplot(1,2,2)\n",
    "sns.boxplot(x=data[\"Tiempo_entrega\"])\n",
    "plt.title(\"Boxplot de tiempos de entrega\")\n",
    "\n",
    "plt.show()\n",
    "\n"
   ]
  },
  {
   "cell_type": "markdown",
   "id": "56e415db-12be-45fa-af8d-bc944830e450",
   "metadata": {},
   "source": [
    "\n",
    "# 🔎 **Observación:**\n",
    "#\n",
    "## - El histograma nos muestra cómo se distribuyen los tiempos de entrega.\n",
    "## - El boxplot permite identificar posibles valores atípicos (outliers)."
   ]
  },
  {
   "cell_type": "markdown",
   "id": "7aa0aa1b-6f09-4c99-bc67-741d4b607a47",
   "metadata": {},
   "source": [
    "\n",
    "# **6. Ejercicio**\n",
    "#\n",
    "## 📌 Crea un nuevo dataset con los **costos de transporte** (USD) de 12 envíos:\n",
    "# \n",
    "## Ejemplo de datos: `[120, 135, 150, 145, 160, 155, 170, 180, 175, 165, 150, 140]`\n",
    "#\n",
    "## 1. Calcula media, mediana y moda.  \n",
    "## 2. Calcula rango, varianza y desviación estándar.  \n",
    "## 3. Realiza un histograma y un boxplot.  \n",
    "## 4. Interpreta los resultados."
   ]
  },
  {
   "cell_type": "code",
   "execution_count": null,
   "id": "d51d7b9b-6727-42d3-9350-f471a5c52639",
   "metadata": {},
   "outputs": [],
   "source": [
    "\n",
    "# 🚀 CODIGO PARA PRACICAR\n",
    "\n",
    "costos = pd.DataFrame({\n",
    "    \"Costo_transporte\": [120, 135, 150, 145, 160, 155, 170, 180, 175, 165, 150, 140]\n",
    "})\n",
    "\n",
    "# Ejemplo: media\n",
    "print(\"Media de costos:\", costos[\"Costo_transporte\"].mean())"
   ]
  },
  {
   "cell_type": "markdown",
   "id": "3f3eada6-2341-4e97-ae04-342d615bc81a",
   "metadata": {},
   "source": [
    "\n",
    "# \n",
    "## ✅ Con este módulo repasamos las bases de la **estadística descriptiva** \n",
    "## y aprendimos a calcular medidas importantes con Python.\n",
    "#\n",
    "## En el próximo módulo veremos **Regresión Lineal Simple** y cómo aplicarla en casos de logística."
   ]
  },
  {
   "cell_type": "code",
   "execution_count": null,
   "id": "4f125fee-ce97-4137-a802-88212533bc72",
   "metadata": {},
   "outputs": [],
   "source": []
  },
  {
   "cell_type": "code",
   "execution_count": null,
   "id": "9a4be3f4-21ca-419b-8dcd-a21589f100e8",
   "metadata": {},
   "outputs": [],
   "source": []
  },
  {
   "cell_type": "code",
   "execution_count": null,
   "id": "3cedb2c7-e46c-4d40-9f68-3c8f9b430d98",
   "metadata": {},
   "outputs": [],
   "source": []
  }
 ],
 "metadata": {
  "kernelspec": {
   "display_name": "Python [conda env:base] *",
   "language": "python",
   "name": "conda-base-py"
  },
  "language_info": {
   "codemirror_mode": {
    "name": "ipython",
    "version": 3
   },
   "file_extension": ".py",
   "mimetype": "text/x-python",
   "name": "python",
   "nbconvert_exporter": "python",
   "pygments_lexer": "ipython3",
   "version": "3.12.7"
  }
 },
 "nbformat": 4,
 "nbformat_minor": 5
}
