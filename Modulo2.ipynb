{
 "cells": [
  {
   "cell_type": "markdown",
   "id": "1fb911df-a94a-4ccf-b828-2c01796db5ed",
   "metadata": {},
   "source": [
    "<img src=\"descriptiva.png\" width=\"300\" height=\"440\"> "
   ]
  },
  {
   "cell_type": "markdown",
   "id": "97fa0efd-ac0a-42d5-b8b4-57084b07fbd9",
   "metadata": {},
   "source": [
    "# 📘 Módulo 2: Regresión Lineal Simple\n",
    "\n",
    "## 🎯 Objetivo de aprendizaje\n",
    "Al finalizar este módulo, el estudiante será capaz de:\n",
    "- Comprender el concepto de regresión lineal simple.\n",
    "- Estimar los parámetros del modelo lineal (pendiente e intercepto).\n",
    "- Evaluar la calidad del ajuste mediante el coeficiente de determinación $R^2$.\n",
    "- Realizar predicciones a partir de un modelo ajustado.\n",
    "- Aplicar la regresión lineal simple en un contexto logístico.\n",
    "\n",
    "\n",
    "## 🧠 2.1 Concepto teórico\n",
    "\n",
    "La **regresión lineal simple** busca modelar la relación entre dos variables:\n",
    "- Una **variable dependiente $y$** → lo que se quiere predecir.\n",
    "- Una **variable independiente $x$** → el factor explicativo.\n",
    "\n",
    "El modelo tiene la forma:\n",
    "\n",
    "$  y = \\beta_0 + \\beta_1 x+ \\varepsilon $\n",
    "\n",
    "\n",
    "donde:\n",
    "-  $\\beta_0$ : intercepto (valor de $y$ cuando $x=0$).\n",
    "-  $\\beta_1$ : pendiente (cambio promedio en $y$ por cada unidad de cambio en $x$).\n",
    "-  $\\varepsilon$ : error aleatorio o residuo.\n",
    "\n",
    "El modelo se ajusta buscando minimizar la **suma de los cuadrados de los errores (SCE)** entre los valores observados y los estimados.\n",
    "\n",
    "## 📊 2.2 Dataset\n",
    "\n",
    "Supongamos que una empresa de transporte quiere estudiar la relación entre la **distancia de entrega (km)** y el **tiempo total de entrega (minutos)**.\n",
    "\n",
    "A continuación se presenta un conjunto de datos **real**, para práctica.\n"
   ]
  },
  {
   "cell_type": "code",
   "execution_count": 14,
   "id": "e2e7888d-e363-46af-9029-2b1727d94144",
   "metadata": {},
   "outputs": [
    {
     "data": {
      "text/html": [
       "<div>\n",
       "<style scoped>\n",
       "    .dataframe tbody tr th:only-of-type {\n",
       "        vertical-align: middle;\n",
       "    }\n",
       "\n",
       "    .dataframe tbody tr th {\n",
       "        vertical-align: top;\n",
       "    }\n",
       "\n",
       "    .dataframe thead th {\n",
       "        text-align: right;\n",
       "    }\n",
       "</style>\n",
       "<table border=\"1\" class=\"dataframe\">\n",
       "  <thead>\n",
       "    <tr style=\"text-align: right;\">\n",
       "      <th></th>\n",
       "      <th>Distancia_km</th>\n",
       "      <th>Tiempo_entrega_min</th>\n",
       "    </tr>\n",
       "  </thead>\n",
       "  <tbody>\n",
       "    <tr>\n",
       "      <th>0</th>\n",
       "      <td>3</td>\n",
       "      <td>15</td>\n",
       "    </tr>\n",
       "    <tr>\n",
       "      <th>1</th>\n",
       "      <td>5</td>\n",
       "      <td>18</td>\n",
       "    </tr>\n",
       "    <tr>\n",
       "      <th>2</th>\n",
       "      <td>8</td>\n",
       "      <td>22</td>\n",
       "    </tr>\n",
       "    <tr>\n",
       "      <th>3</th>\n",
       "      <td>10</td>\n",
       "      <td>25</td>\n",
       "    </tr>\n",
       "    <tr>\n",
       "      <th>4</th>\n",
       "      <td>12</td>\n",
       "      <td>28</td>\n",
       "    </tr>\n",
       "    <tr>\n",
       "      <th>5</th>\n",
       "      <td>14</td>\n",
       "      <td>31</td>\n",
       "    </tr>\n",
       "    <tr>\n",
       "      <th>6</th>\n",
       "      <td>16</td>\n",
       "      <td>34</td>\n",
       "    </tr>\n",
       "    <tr>\n",
       "      <th>7</th>\n",
       "      <td>18</td>\n",
       "      <td>36</td>\n",
       "    </tr>\n",
       "    <tr>\n",
       "      <th>8</th>\n",
       "      <td>20</td>\n",
       "      <td>39</td>\n",
       "    </tr>\n",
       "    <tr>\n",
       "      <th>9</th>\n",
       "      <td>22</td>\n",
       "      <td>42</td>\n",
       "    </tr>\n",
       "    <tr>\n",
       "      <th>10</th>\n",
       "      <td>25</td>\n",
       "      <td>45</td>\n",
       "    </tr>\n",
       "    <tr>\n",
       "      <th>11</th>\n",
       "      <td>28</td>\n",
       "      <td>48</td>\n",
       "    </tr>\n",
       "    <tr>\n",
       "      <th>12</th>\n",
       "      <td>30</td>\n",
       "      <td>50</td>\n",
       "    </tr>\n",
       "    <tr>\n",
       "      <th>13</th>\n",
       "      <td>33</td>\n",
       "      <td>54</td>\n",
       "    </tr>\n",
       "    <tr>\n",
       "      <th>14</th>\n",
       "      <td>36</td>\n",
       "      <td>57</td>\n",
       "    </tr>\n",
       "    <tr>\n",
       "      <th>15</th>\n",
       "      <td>40</td>\n",
       "      <td>61</td>\n",
       "    </tr>\n",
       "    <tr>\n",
       "      <th>16</th>\n",
       "      <td>45</td>\n",
       "      <td>66</td>\n",
       "    </tr>\n",
       "    <tr>\n",
       "      <th>17</th>\n",
       "      <td>48</td>\n",
       "      <td>70</td>\n",
       "    </tr>\n",
       "    <tr>\n",
       "      <th>18</th>\n",
       "      <td>52</td>\n",
       "      <td>74</td>\n",
       "    </tr>\n",
       "    <tr>\n",
       "      <th>19</th>\n",
       "      <td>55</td>\n",
       "      <td>78</td>\n",
       "    </tr>\n",
       "  </tbody>\n",
       "</table>\n",
       "</div>"
      ],
      "text/plain": [
       "    Distancia_km  Tiempo_entrega_min\n",
       "0              3                  15\n",
       "1              5                  18\n",
       "2              8                  22\n",
       "3             10                  25\n",
       "4             12                  28\n",
       "5             14                  31\n",
       "6             16                  34\n",
       "7             18                  36\n",
       "8             20                  39\n",
       "9             22                  42\n",
       "10            25                  45\n",
       "11            28                  48\n",
       "12            30                  50\n",
       "13            33                  54\n",
       "14            36                  57\n",
       "15            40                  61\n",
       "16            45                  66\n",
       "17            48                  70\n",
       "18            52                  74\n",
       "19            55                  78"
      ]
     },
     "execution_count": 14,
     "metadata": {},
     "output_type": "execute_result"
    }
   ],
   "source": [
    "import pandas as pd\n",
    "\n",
    "# Crear dataset ficticio ampliado (20 observaciones)\n",
    "data = {\n",
    "    'Distancia_km': [3, 5, 8, 10, 12, 14, 16, 18, 20, 22,\n",
    "                     25, 28, 30, 33, 36, 40, 45, 48, 52, 55],\n",
    "    'Tiempo_entrega_min': [15, 18, 22, 25, 28, 31, 34, 36, 39, 42,\n",
    "                           45, 48, 50, 54, 57, 61, 66, 70, 74, 78]\n",
    "}\n",
    "\n",
    "df = pd.DataFrame(data)\n",
    "df"
   ]
  },
  {
   "cell_type": "markdown",
   "id": "719a65c7-e6bd-416b-a1a1-c29f5158c142",
   "metadata": {},
   "source": [
    "## 📈 2.3 Visualización de la relación"
   ]
  },
  {
   "cell_type": "code",
   "execution_count": 24,
   "id": "a7bd323c-ffd9-4b55-ac77-2677630315d6",
   "metadata": {},
   "outputs": [
    {
     "data": {
      "image/png": "[encoded data removed]",
      "text/plain": [
       "<Figure size 640x480 with 1 Axes>"
      ]
     },
     "metadata": {},
     "output_type": "display_data"
    }
   ],
   "source": [
    "import matplotlib.pyplot as plt\n",
    "\n",
    "plt.scatter(df['Distancia_km'], df['Tiempo_entrega_min'], color='royalblue')\n",
    "plt.title(\"Relación entre distancia y tiempo de entrega\")\n",
    "plt.xlabel(\"Distancia (km)\")\n",
    "plt.ylabel(\"Tiempo de entrega (min)\")\n",
    "plt.grid(True)\n",
    "plt.show()"
   ]
  },
  {
   "cell_type": "markdown",
   "id": "8c44c7e1-ffd2-459a-b337-be8aa448cb56",
   "metadata": {},
   "source": [
    "## 🧮 2.4 Ajuste del modelo de regresión lineal"
   ]
  },
  {
   "cell_type": "code",
   "execution_count": 27,
   "id": "e6fed968-fc26-4d3e-bd61-01fafc1d0970",
   "metadata": {},
   "outputs": [
    {
     "name": "stdout",
     "output_type": "stream",
     "text": [
      "Intercepto (β0): 13.88\n",
      "Pendiente (β1): 1.18\n",
      "Coeficiente de determinación (R²): 0.996\n"
     ]
    }
   ],
   "source": [
    "from sklearn.linear_model import LinearRegression\n",
    "\n",
    "# Variable independiente (X) y dependiente (y)\n",
    "X = df[['Distancia_km']]\n",
    "y = df['Tiempo_entrega_min']\n",
    "\n",
    "# Crear y ajustar el modelo\n",
    "modelo = LinearRegression()\n",
    "modelo.fit(X, y)\n",
    "\n",
    "# Parámetros del modelo\n",
    "intercepto = modelo.intercept_\n",
    "pendiente = modelo.coef_[0]\n",
    "r2 = modelo.score(X, y)\n",
    "\n",
    "print(f\"Intercepto (β0): {intercepto:.2f}\")\n",
    "print(f\"Pendiente (β1): {pendiente:.2f}\")\n",
    "print(f\"Coeficiente de determinación (R²): {r2:.3f}\")"
   ]
  },
  {
   "cell_type": "markdown",
   "id": "26d14446-9401-45e5-b885-8d7d3cc43f7c",
   "metadata": {},
   "source": [
    "## 🔍 2.5 Ecuación del modelo\n",
    "El modelo tiene la forma:\n",
    "\n",
    "\n",
    "$\\hat{y} = \\beta_0 + \\beta_1 x$\n",
    "\n",
    "\n",
    "Por ejemplo, si los resultados son similares a:\n",
    "\n",
    "\n",
    "$\\hat{y} = 12.8 + 1.18x$\n",
    "\n",
    "\n",
    "Interpretación:\n",
    "- Cada kilómetro adicional de distancia aumenta el tiempo de entrega en promedio **1.18 minutos**.\n",
    "- Cuando la distancia es 0, el tiempo base (preparación, carga, etc.) es de aproximadamente **12.8 minutos**.\n"
   ]
  },
  {
   "cell_type": "markdown",
   "id": "5bf19fb9-983c-4d35-aafe-bdf01a95a8dc",
   "metadata": {},
   "source": [
    "## 📊 2.6 Visualización del modelo ajustado"
   ]
  },
  {
   "cell_type": "code",
   "execution_count": 31,
   "id": "a208a106-7879-4e4e-b44b-bdf3af317cfe",
   "metadata": {},
   "outputs": [
    {
     "data": {
      "image/png": "[encoded data removed]",
      "text/plain": [
       "<Figure size 640x480 with 1 Axes>"
      ]
     },
     "metadata": {},
     "output_type": "display_data"
    }
   ],
   "source": [
    "# Predicciones\n",
    "y_pred = modelo.predict(X)\n",
    "\n",
    "# Graficar datos y línea de regresión\n",
    "plt.scatter(X, y, color='royalblue', label='Datos reales')\n",
    "plt.plot(X, y_pred, color='red', label='Modelo ajustado')\n",
    "plt.title(\"Regresión lineal simple: Distancia vs Tiempo de entrega\")\n",
    "plt.xlabel(\"Distancia (km)\")\n",
    "plt.ylabel(\"Tiempo de entrega (min)\")\n",
    "plt.legend()\n",
    "plt.grid(True)\n",
    "plt.show()\n"
   ]
  },
  {
   "cell_type": "markdown",
   "id": "01121241-4f7c-4915-b75e-8d567b1f8fc1",
   "metadata": {},
   "source": [
    "## 📈 2.7 Predicción de nuevos valores"
   ]
  },
  {
   "cell_type": "code",
   "execution_count": 34,
   "id": "39407152-fe6b-4d4c-9137-7feaa45a7d04",
   "metadata": {},
   "outputs": [
    {
     "data": {
      "text/html": [
       "<div>\n",
       "<style scoped>\n",
       "    .dataframe tbody tr th:only-of-type {\n",
       "        vertical-align: middle;\n",
       "    }\n",
       "\n",
       "    .dataframe tbody tr th {\n",
       "        vertical-align: top;\n",
       "    }\n",
       "\n",
       "    .dataframe thead th {\n",
       "        text-align: right;\n",
       "    }\n",
       "</style>\n",
       "<table border=\"1\" class=\"dataframe\">\n",
       "  <thead>\n",
       "    <tr style=\"text-align: right;\">\n",
       "      <th></th>\n",
       "      <th>Distancia_km</th>\n",
       "      <th>Pred_Tiempo_min</th>\n",
       "    </tr>\n",
       "  </thead>\n",
       "  <tbody>\n",
       "    <tr>\n",
       "      <th>0</th>\n",
       "      <td>12</td>\n",
       "      <td>28.084009</td>\n",
       "    </tr>\n",
       "    <tr>\n",
       "      <th>1</th>\n",
       "      <td>27</td>\n",
       "      <td>45.833285</td>\n",
       "    </tr>\n",
       "    <tr>\n",
       "      <th>2</th>\n",
       "      <td>50</td>\n",
       "      <td>73.048842</td>\n",
       "    </tr>\n",
       "    <tr>\n",
       "      <th>3</th>\n",
       "      <td>60</td>\n",
       "      <td>84.881692</td>\n",
       "    </tr>\n",
       "  </tbody>\n",
       "</table>\n",
       "</div>"
      ],
      "text/plain": [
       "   Distancia_km  Pred_Tiempo_min\n",
       "0            12        28.084009\n",
       "1            27        45.833285\n",
       "2            50        73.048842\n",
       "3            60        84.881692"
      ]
     },
     "execution_count": 34,
     "metadata": {},
     "output_type": "execute_result"
    }
   ],
   "source": [
    "# Predecir tiempo de entrega para nuevas distancias\n",
    "nuevas_distancias = pd.DataFrame({'Distancia_km': [12, 27, 50, 60]})\n",
    "predicciones = modelo.predict(nuevas_distancias)\n",
    "\n",
    "# Mostrar resultados\n",
    "pd.concat([nuevas_distancias, pd.Series(predicciones, name='Pred_Tiempo_min')], axis=1)"
   ]
  },
  {
   "cell_type": "markdown",
   "id": "e7853f75-42e8-40ba-88fb-c0cd4e69be63",
   "metadata": {},
   "source": [
    "## 📏 2.8 Intervalos de confianza y pruebas de hipótesis (visión conceptual)\n",
    "\n",
    "Aunque `sklearn` no calcula automáticamente los intervalos de confianza, se pueden obtener con `statsmodels`.\n",
    "\n",
    "### Hipótesis a contrastar:\n",
    "\n",
    "$H_0: \\beta_1 = 0 \\quad \\text{(no existe relación lineal)}$ \n",
    "\n",
    "$H_1: \\beta_1 \\neq 0 \\quad \\text{(existe relación lineal significativa)}$\n",
    "\n",
    "\n",
    "Un valor-p menor que 0.05 indica evidencia suficiente para rechazar  $H_0$ ."
   ]
  },
  {
   "cell_type": "code",
   "execution_count": 47,
   "id": "1c97a49d-4354-46be-a686-d018c7490d98",
   "metadata": {},
   "outputs": [
    {
     "name": "stdout",
     "output_type": "stream",
     "text": [
      "                            OLS Regression Results                            \n",
      "==============================================================================\n",
      "Dep. Variable:     Tiempo_entrega_min   R-squared:                       0.996\n",
      "Model:                            OLS   Adj. R-squared:                  0.995\n",
      "Method:                 Least Squares   F-statistic:                     4040.\n",
      "Date:                Tue, 14 Oct 2025   Prob (F-statistic):           1.24e-22\n",
      "Time:                        17:18:53   Log-Likelihood:                -32.486\n",
      "No. Observations:                  20   AIC:                             68.97\n",
      "Df Residuals:                      18   BIC:                             70.96\n",
      "Df Model:                           1                                         \n",
      "Covariance Type:            nonrobust                                         \n",
      "================================================================================\n",
      "                   coef    std err          t      P>|t|      [0.025      0.975]\n",
      "--------------------------------------------------------------------------------\n",
      "const           13.8846      0.564     24.618      0.000      12.700      15.069\n",
      "Distancia_km     1.1833      0.019     63.558      0.000       1.144       1.222\n",
      "==============================================================================\n",
      "Omnibus:                        1.654   Durbin-Watson:                   0.222\n",
      "Prob(Omnibus):                  0.437   Jarque-Bera (JB):                1.037\n",
      "Skew:                          -0.217   Prob(JB):                        0.596\n",
      "Kurtosis:                       1.972   Cond. No.                         59.1\n",
      "==============================================================================\n",
      "\n",
      "Notes:\n",
      "[1] Standard Errors assume that the covariance matrix of the errors is correctly specified.\n"
     ]
    }
   ],
   "source": [
    "import statsmodels.api as sm\n",
    "\n",
    "X2 = sm.add_constant(X)  # Agregar intercepto\n",
    "modelo_sm = sm.OLS(y, X2).fit()\n",
    "print(modelo_sm.summary())"
   ]
  },
  {
   "cell_type": "markdown",
   "id": "aa05e1e3-d205-48c9-9a6f-ed50ce2b53c3",
   "metadata": {},
   "source": [
    "# 🧩 2.9 Interpretación práctica en contexto logístico\n",
    "\n",
    "El modelo permite:\n",
    "- **Predecir tiempos de entrega** para rutas de distinta distancia.\n",
    "- **Evaluar eficiencia** de las operaciones (si las entregas reales difieren mucho del modelo, puede haber retrasos operativos).\n",
    "- **Planificar recursos** (vehículos o conductores) según la distancia promedio de los pedidos.\n",
    "\n",
    "---\n",
    "\n",
    "## 🧠 2.10 Ejercicios propuestos\n",
    "\n",
    "1. Construye un modelo lineal que relacione el **peso de carga (kg)** con el **consumo de combustible (L)** en una flotilla.\n",
    "2. Genera tu propio dataset con al menos 20 observaciones, representando una relación logística real (por ejemplo, distancia–costo, peso–tiempo, o demanda–inventario).\n",
    "3. Calcula el $ R^2 $ y comenta si el modelo ajusta bien.\n",
    "4. Obtén la ecuación del modelo y predice para tres nuevos valores de $ x $.\n",
    "5. Explica qué utilidad tendría este modelo en la planificación logística de rutas o tiempos de entrega.\n"
   ]
  }
 ],
 "metadata": {
  "kernelspec": {
   "display_name": "Python [conda env:base] *",
   "language": "python",
   "name": "conda-base-py"
  },
  "language_info": {
   "codemirror_mode": {
    "name": "ipython",
    "version": 3
   },
   "file_extension": ".py",
   "mimetype": "text/x-python",
   "name": "python",
   "nbconvert_exporter": "python",
   "pygments_lexer": "ipython3",
   "version": "3.12.7"
  }
 },
 "nbformat": 4,
 "nbformat_minor": 5
}
